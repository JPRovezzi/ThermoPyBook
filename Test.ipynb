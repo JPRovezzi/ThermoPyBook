{
 "cells": [
  {
   "cell_type": "code",
   "execution_count": 1,
   "metadata": {},
   "outputs": [],
   "source": [
    "from Modules.ConceptList import *\n",
    "\n",
    "# Import the modules required\n",
    "import json\n",
    "from difflib import get_close_matches\n",
    "from openpyxl import *\n",
    "\n",
    "#Import my modules\n",
    "from Modules.Translate          import *\n",
    "from Modules.EnergyEquations    import *\n",
    "from Modules.UnitConverter      import *\n",
    "# Loading data from json file\n",
    "# in python dictionary\n",
    "#data = json.load(open(\"dictionary.json\"))\n",
    "\n"
   ]
  },
  {
   "cell_type": "code",
   "execution_count": 2,
   "metadata": {},
   "outputs": [
    {
     "name": "stdout",
     "output_type": "stream",
     "text": [
      "2.0\n"
     ]
    }
   ],
   "source": [
    "print(get_kinetic_energy(1,2,\"Simple\"))"
   ]
  },
  {
   "cell_type": "code",
   "execution_count": 4,
   "metadata": {},
   "outputs": [
    {
     "name": "stdout",
     "output_type": "stream",
     "text": [
      "2.0\n"
     ]
    }
   ],
   "source": [
    "print(get_kinetic_energy(1,2,\"2D monoatomic fluid\", R = 1))"
   ]
  },
  {
   "cell_type": "code",
   "execution_count": 17,
   "metadata": {},
   "outputs": [
    {
     "name": "stdout",
     "output_type": "stream",
     "text": [
      "273.15\n",
      "0.0\n",
      "491.66999999999996\n",
      "32.0\n",
      "\n",
      "0\n",
      "273.15\n",
      "491.66999999999996\n",
      "32.0\n",
      "\n",
      "32\n",
      "273.15\n",
      "491.67\n",
      "0.0\n",
      "\n",
      "491.67\n",
      "273.15000000000003\n",
      "32.0\n",
      "5.684341886080802e-14\n"
     ]
    }
   ],
   "source": [
    "print(convert_Temperature(273.15,\"K\",\"K\"))\n",
    "print(convert_Temperature(273.15,\"K\",\"C\"))\n",
    "print(convert_Temperature(273.15,\"K\",\"R\"))\n",
    "print(convert_Temperature(273.15,\"K\",\"F\"))\n",
    "print()\n",
    "print(convert_Temperature(0,\"C\",\"C\"))\n",
    "print(convert_Temperature(0,\"C\",\"K\"))\n",
    "print(convert_Temperature(0,\"C\",\"R\"))\n",
    "print(convert_Temperature(0,\"C\",\"F\"))\n",
    "print()\n",
    "print(convert_Temperature(32,\"F\",\"F\"))\n",
    "print(convert_Temperature(32,\"F\",\"K\"))\n",
    "print(convert_Temperature(32,\"F\",\"R\"))\n",
    "print(convert_Temperature(32,\"F\",\"C\"))\n",
    "print()\n",
    "print(convert_Temperature(491.67,\"R\",\"R\"))\n",
    "print(convert_Temperature(491.67,\"R\",\"K\"))\n",
    "print(convert_Temperature(491.67,\"R\",\"F\"))\n",
    "print(convert_Temperature(491.67,\"R\",\"C\"))"
   ]
  },
  {
   "cell_type": "code",
   "execution_count": 20,
   "metadata": {},
   "outputs": [
    {
     "name": "stdout",
     "output_type": "stream",
     "text": [
      "Concept\n"
     ]
    }
   ],
   "source": [
    "wb = load_workbook(filename = \"ConceptsSheet.xlsx\")\n",
    "ws = wb.active\n",
    "cell = ws['A1'].value\n",
    "print(cell)"
   ]
  }
 ],
 "metadata": {
  "kernelspec": {
   "display_name": "ThermoPyBook",
   "language": "python",
   "name": "python3"
  },
  "language_info": {
   "codemirror_mode": {
    "name": "ipython",
    "version": 3
   },
   "file_extension": ".py",
   "mimetype": "text/x-python",
   "name": "python",
   "nbconvert_exporter": "python",
   "pygments_lexer": "ipython3",
   "version": "3.10.6"
  },
  "orig_nbformat": 4,
  "vscode": {
   "interpreter": {
    "hash": "d117d8e8b92266eceb1bf331c9fa86dec2726213c90f719827207329ca374dec"
   }
  }
 },
 "nbformat": 4,
 "nbformat_minor": 2
}
