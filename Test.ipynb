{
 "cells": [
  {
   "cell_type": "code",
   "execution_count": 21,
   "metadata": {},
   "outputs": [],
   "source": [
    "from Modules.ConceptList import *\n",
    "\n",
    "# Import the modules required\n",
    "import json\n",
    "from difflib import get_close_matches\n",
    "from openpyxl import *\n",
    "\n",
    "#Import my modules\n",
    "from Modules.Translate import *\n",
    "# Loading data from json file\n",
    "# in python dictionary\n",
    "#data = json.load(open(\"dictionary.json\"))\n",
    "\n"
   ]
  },
  {
   "cell_type": "code",
   "execution_count": 20,
   "metadata": {},
   "outputs": [
    {
     "name": "stdout",
     "output_type": "stream",
     "text": [
      "Concept\n"
     ]
    }
   ],
   "source": [
    "wb = load_workbook(filename = \"ConceptsSheet.xlsx\")\n",
    "ws = wb.active\n",
    "cell = ws['A1'].value\n",
    "print(cell)"
   ]
  }
 ],
 "metadata": {
  "kernelspec": {
   "display_name": "ThermoPyBook",
   "language": "python",
   "name": "python3"
  },
  "language_info": {
   "codemirror_mode": {
    "name": "ipython",
    "version": 3
   },
   "file_extension": ".py",
   "mimetype": "text/x-python",
   "name": "python",
   "nbconvert_exporter": "python",
   "pygments_lexer": "ipython3",
   "version": "3.10.6"
  },
  "orig_nbformat": 4,
  "vscode": {
   "interpreter": {
    "hash": "d117d8e8b92266eceb1bf331c9fa86dec2726213c90f719827207329ca374dec"
   }
  }
 },
 "nbformat": 4,
 "nbformat_minor": 2
}
